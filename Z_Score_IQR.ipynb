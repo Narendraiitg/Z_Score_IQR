{
  "nbformat": 4,
  "nbformat_minor": 0,
  "metadata": {
    "colab": {
      "provenance": [],
      "toc_visible": true,
      "authorship_tag": "ABX9TyPe5sV6hPEsy68yYosvokez",
      "include_colab_link": true
    },
    "kernelspec": {
      "name": "python3",
      "display_name": "Python 3"
    },
    "language_info": {
      "name": "python"
    }
  },
  "cells": [
    {
      "cell_type": "markdown",
      "metadata": {
        "id": "view-in-github",
        "colab_type": "text"
      },
      "source": [
        "<a href=\"https://colab.research.google.com/github/Narendraiitg/Z_Score_IQR/blob/main/Z_Score_IQR.ipynb\" target=\"_parent\"><img src=\"https://colab.research.google.com/assets/colab-badge.svg\" alt=\"Open In Colab\"/></a>"
      ]
    },
    {
      "cell_type": "markdown",
      "source": [
        "# Outliers using the Z-Score\n",
        "We know that 99.5 % of data fall within the third standard deviations so we can set the threshhold for the outliers to 3 that is after 3rd standard deviation data will be consider as outlier (if the values of z_scores is greter than 3 than it will be consider as an outliers)"
      ],
      "metadata": {
        "id": "PqHHqRedPmZo"
      }
    },
    {
      "cell_type": "code",
      "execution_count": 49,
      "metadata": {
        "id": "wpk8F66FWNJB"
      },
      "outputs": [],
      "source": [
        "import numpy as np\n",
        "import matplotlib.pyplot as plt\n",
        "%matplotlib inline\n"
      ]
    },
    {
      "cell_type": "code",
      "source": [
        "# Defining the dataset\n",
        "dataset=[11,10,12,14,12,15,14,13,15,102,12,14,17,19,107, 10,13,12,14,12,108,12,11,14,13,15,10,15,12,10,14,13,15,10]"
      ],
      "metadata": {
        "id": "zzLcmJ-yWmy_"
      },
      "execution_count": 50,
      "outputs": []
    },
    {
      "cell_type": "code",
      "source": [
        "outliers=[]\n",
        "# function for detecting the outliers using z_score\n",
        "\n",
        "def detect_outliers(data):\n",
        "  threshold=3\n",
        "  mean=np.mean(data)\n",
        "  std=np.std(data)\n",
        "  for i in data:\n",
        "    z_score= (i-mean)/std\n",
        "    if np.abs(z_score)>threshold:\n",
        "      outliers.append(i)\n",
        "  return outliers    \n"
      ],
      "metadata": {
        "id": "32UWUhzFXi-1"
      },
      "execution_count": 51,
      "outputs": []
    },
    {
      "cell_type": "code",
      "source": [
        "# Applying the outlier detection function on dataset\n",
        "detect_outliers(dataset)"
      ],
      "metadata": {
        "colab": {
          "base_uri": "https://localhost:8080/"
        },
        "id": "cxoXibIzXo-d",
        "outputId": "56e6ae68-694a-4539-a3c7-7e9c8322624e"
      },
      "execution_count": 52,
      "outputs": [
        {
          "output_type": "execute_result",
          "data": {
            "text/plain": [
              "[102, 107, 108]"
            ]
          },
          "metadata": {},
          "execution_count": 52
        }
      ]
    },
    {
      "cell_type": "markdown",
      "source": [
        "# Inter Quartile Range (IQR)\n",
        "\n",
        "Steps to find an IQR \n",
        "1) Sort the data\n",
        "\n",
        "2) We need to find the 25 percentile and named as Q1\n",
        "\n",
        "3) We need to find the 75 percentile and named as Q3\n",
        "\n",
        "4) Then we will find the IQR= Q3-Q1\n",
        "\n",
        "5) We will find the lower fence = (Q1-1.5(IQR))\n",
        "\n",
        "6) We will find the higher fence = (Q3+1.5(IQR))"
      ],
      "metadata": {
        "id": "pyWMXukqRmUH"
      }
    },
    {
      "cell_type": "code",
      "source": [
        "# Step 1 sorting the data points\n",
        "sort_data= sorted(dataset)"
      ],
      "metadata": {
        "id": "97irmwUNRlk4"
      },
      "execution_count": 53,
      "outputs": []
    },
    {
      "cell_type": "code",
      "source": [
        "# Step 2 & 3 We will find the Q1 (25 percentile) & Q3 (75 percentile)\n",
        "Q1,Q3= np.percentile(sort_data,[25,75])"
      ],
      "metadata": {
        "id": "lUZHyP8YRln3"
      },
      "execution_count": 54,
      "outputs": []
    },
    {
      "cell_type": "code",
      "source": [
        "print(Q1,Q3)"
      ],
      "metadata": {
        "colab": {
          "base_uri": "https://localhost:8080/"
        },
        "id": "q7Yu8lcLaZ09",
        "outputId": "366116d9-bab5-4dec-bd0e-bc5d6fe443f8"
      },
      "execution_count": 55,
      "outputs": [
        {
          "output_type": "stream",
          "name": "stdout",
          "text": [
            "12.0 15.0\n"
          ]
        }
      ]
    },
    {
      "cell_type": "markdown",
      "source": [
        "We can compute IQR and the limit of non-outliers using IQR is Q3-Q1"
      ],
      "metadata": {
        "id": "rj1VUgrPaxrI"
      }
    },
    {
      "cell_type": "code",
      "source": [
        "# Step 4 finding an IQR= Q3-Q1\n",
        "\n",
        "IQR= Q3-Q1\n",
        "IQR"
      ],
      "metadata": {
        "colab": {
          "base_uri": "https://localhost:8080/"
        },
        "id": "95WcVty6UFEY",
        "outputId": "365e1804-b34e-4685-ce3d-2a723b39d35f"
      },
      "execution_count": 56,
      "outputs": [
        {
          "output_type": "execute_result",
          "data": {
            "text/plain": [
              "3.0"
            ]
          },
          "metadata": {},
          "execution_count": 56
        }
      ]
    },
    {
      "cell_type": "markdown",
      "source": [
        "The upper limit for non-outliers is Q3+1.5*IQR, the lower limit for non-outliers is Q1-1.5*IQR."
      ],
      "metadata": {
        "id": "MUmEEsqFbGvX"
      }
    },
    {
      "cell_type": "code",
      "source": [
        "# Finding the valuers of lower_fence & upper_fence\n",
        "lower_fence = (Q1-1.5*(IQR))\n",
        "upper_fence = (Q3+1.5*(IQR))"
      ],
      "metadata": {
        "id": "ALSaQ7VOUFM2"
      },
      "execution_count": 57,
      "outputs": []
    },
    {
      "cell_type": "code",
      "source": [
        "# printing the values of lower_fence & higher_fence\n",
        "print(lower_fence,upper_fence)"
      ],
      "metadata": {
        "colab": {
          "base_uri": "https://localhost:8080/"
        },
        "id": "vw4M6OcOUpPX",
        "outputId": "c434b85e-0368-4ca0-cbba-e016b66d6b93"
      },
      "execution_count": 58,
      "outputs": [
        {
          "output_type": "stream",
          "name": "stdout",
          "text": [
            "7.5 19.5\n"
          ]
        }
      ]
    },
    {
      "cell_type": "markdown",
      "source": [
        "For the dataset we have taken, uf (upper fence) is 19.5, lf (lower limit) is 7.5. Thus, the values above 19.5 or below 7.5 are considered as outliers. \n",
        "\n",
        "We can define a function to find the exact outliers."
      ],
      "metadata": {
        "id": "VQqqURuocJNA"
      }
    },
    {
      "cell_type": "code",
      "source": [
        "outlier1=[]\n",
        "# Defining the function for the outliers using IQR\n",
        "def IQR_Out(data):\n",
        "  lf=lower_fence\n",
        "  uf=upper_fence\n",
        "  for i in sort_data:\n",
        "    if ((i<lf) | (i>uf)):\n",
        "      outlier1.append(i)\n",
        "  return outlier1\n",
        "\n"
      ],
      "metadata": {
        "id": "Xc8mE6xuVlH-"
      },
      "execution_count": 59,
      "outputs": []
    },
    {
      "cell_type": "code",
      "source": [
        "IQR_Out(sort_data)"
      ],
      "metadata": {
        "colab": {
          "base_uri": "https://localhost:8080/"
        },
        "id": "B74plaLiaIaY",
        "outputId": "99f5843c-2f1f-41c5-a819-27a79403e619"
      },
      "execution_count": 60,
      "outputs": [
        {
          "output_type": "execute_result",
          "data": {
            "text/plain": [
              "[102, 107, 108]"
            ]
          },
          "metadata": {},
          "execution_count": 60
        }
      ]
    },
    {
      "cell_type": "markdown",
      "source": [
        "# Box plot"
      ],
      "metadata": {
        "id": "ETvqlYBNbhVt"
      }
    },
    {
      "cell_type": "markdown",
      "source": [
        "Box plot visually shows the 5 statistical summary of a dataset, Min, Q1, Q2 (median), Q3, and Max. Further, it denotes the outliers according to the IQR method. One thing to note is that when an outlier is detected, the whisker will correspondingly change to the upper limit (Q3+1.5*IQR) or lower limit (Q1–1.5*IQR)."
      ],
      "metadata": {
        "id": "ht5svfLpdpkI"
      }
    },
    {
      "cell_type": "code",
      "source": [
        "fig = plt.figure(figsize=(6,5))\n",
        "plt.boxplot(dataset, widths=0.5)\n",
        "plt.ylabel('Statistical values')\n",
        "plt.title('Box plot of the data')\n",
        "plt.show()"
      ],
      "metadata": {
        "colab": {
          "base_uri": "https://localhost:8080/",
          "height": 336
        },
        "id": "fVXQn9clVlE_",
        "outputId": "30ac28cc-5f32-4d19-ca18-0fd00198175a"
      },
      "execution_count": 67,
      "outputs": [
        {
          "output_type": "display_data",
          "data": {
            "text/plain": [
              "<Figure size 432x360 with 1 Axes>"
            ],
            "image/png": "[encoded data removed]"
          },
          "metadata": {
            "needs_background": "light"
          }
        }
      ]
    },
    {
      "cell_type": "markdown",
      "source": [
        "For above box plot, there are three dots around values little bit more than 100 at the top of the box. These dots are exactly the outliers we calculated before."
      ],
      "metadata": {
        "id": "frVbnYN7fXjv"
      }
    }
  ]
}